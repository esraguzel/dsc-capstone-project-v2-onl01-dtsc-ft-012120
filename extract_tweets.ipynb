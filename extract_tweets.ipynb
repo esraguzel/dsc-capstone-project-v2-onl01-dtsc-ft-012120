{
 "cells": [
  {
   "cell_type": "markdown",
   "metadata": {},
   "source": [
    "## Obtaining Twitter data"
   ]
  },
  {
   "cell_type": "code",
   "execution_count": 1,
   "metadata": {},
   "outputs": [],
   "source": [
    "# Load libraries\n",
    "import pandas as pd\n",
    "import time\n",
    "import json\n",
    "\n",
    "# Load Twitter API client\n",
    "from searchtweets import ResultStream, gen_rule_payload, load_credentials, collect_results"
   ]
  },
  {
   "cell_type": "markdown",
   "metadata": {},
   "source": [
    "### Define API arguments"
   ]
  },
  {
   "cell_type": "code",
   "execution_count": 2,
   "metadata": {},
   "outputs": [
    {
     "name": "stderr",
     "output_type": "stream",
     "text": [
      "cannot read file .twitter_keys.yaml\n",
      "Error parsing YAML file; searching for valid environment variables\n",
      "Account type is not specified and cannot be inferred.\n",
      "        Please check your credential file, arguments, or environment variables\n",
      "        for issues. The account type must be 'premium' or 'enterprise'.\n",
      "        \n"
     ]
    },
    {
     "ename": "KeyError",
     "evalue": "",
     "output_type": "error",
     "traceback": [
      "\u001b[0;31m---------------------------------------------------------------------------\u001b[0m",
      "\u001b[0;31mKeyError\u001b[0m                                  Traceback (most recent call last)",
      "\u001b[0;32m<ipython-input-2-7de8e0dfc73c>\u001b[0m in \u001b[0;36m<module>\u001b[0;34m\u001b[0m\n\u001b[1;32m      2\u001b[0m premium_30day_search_args = load_credentials(filename=\".twitter_keys.yaml\",\n\u001b[1;32m      3\u001b[0m                  \u001b[0myaml_key\u001b[0m\u001b[0;34m=\u001b[0m\u001b[0;34m\"search_30day_tweets_api\"\u001b[0m\u001b[0;34m,\u001b[0m\u001b[0;34m\u001b[0m\u001b[0;34m\u001b[0m\u001b[0m\n\u001b[0;32m----> 4\u001b[0;31m                  env_overwrite=False)\n\u001b[0m\u001b[1;32m      5\u001b[0m \u001b[0;34m\u001b[0m\u001b[0m\n\u001b[1;32m      6\u001b[0m \u001b[0;31m# Define arguments to be able to connect to Twitter API for the last 30 days of tweets\u001b[0m\u001b[0;34m\u001b[0m\u001b[0;34m\u001b[0m\u001b[0;34m\u001b[0m\u001b[0m\n",
      "\u001b[0;32m~/opt/anaconda3/envs/learn-env/lib/python3.6/site-packages/searchtweets/credentials.py\u001b[0m in \u001b[0;36mload_credentials\u001b[0;34m(filename, account_type, yaml_key, env_overwrite)\u001b[0m\n\u001b[1;32m    187\u001b[0m                    \u001b[0;32mif\u001b[0m \u001b[0menv_overwrite\u001b[0m\u001b[0;34m\u001b[0m\u001b[0;34m\u001b[0m\u001b[0m\n\u001b[1;32m    188\u001b[0m                    else merge_dicts(env_vars, yaml_vars))\n\u001b[0;32m--> 189\u001b[0;31m     \u001b[0mparsed_vars\u001b[0m \u001b[0;34m=\u001b[0m \u001b[0m_parse_credentials\u001b[0m\u001b[0;34m(\u001b[0m\u001b[0mmerged_vars\u001b[0m\u001b[0;34m,\u001b[0m \u001b[0maccount_type\u001b[0m\u001b[0;34m=\u001b[0m\u001b[0maccount_type\u001b[0m\u001b[0;34m)\u001b[0m\u001b[0;34m\u001b[0m\u001b[0;34m\u001b[0m\u001b[0m\n\u001b[0m\u001b[1;32m    190\u001b[0m     \u001b[0;32mreturn\u001b[0m \u001b[0mparsed_vars\u001b[0m\u001b[0;34m\u001b[0m\u001b[0;34m\u001b[0m\u001b[0m\n\u001b[1;32m    191\u001b[0m \u001b[0;34m\u001b[0m\u001b[0m\n",
      "\u001b[0;32m~/opt/anaconda3/envs/learn-env/lib/python3.6/site-packages/searchtweets/credentials.py\u001b[0m in \u001b[0;36m_parse_credentials\u001b[0;34m(search_creds, account_type)\u001b[0m\n\u001b[1;32m     80\u001b[0m         \"\"\"\n\u001b[1;32m     81\u001b[0m         \u001b[0mlogger\u001b[0m\u001b[0;34m.\u001b[0m\u001b[0merror\u001b[0m\u001b[0;34m(\u001b[0m\u001b[0mmsg\u001b[0m\u001b[0;34m)\u001b[0m\u001b[0;34m\u001b[0m\u001b[0;34m\u001b[0m\u001b[0m\n\u001b[0;32m---> 82\u001b[0;31m         \u001b[0;32mraise\u001b[0m \u001b[0mKeyError\u001b[0m\u001b[0;34m\u001b[0m\u001b[0;34m\u001b[0m\u001b[0m\n\u001b[0m\u001b[1;32m     83\u001b[0m \u001b[0;34m\u001b[0m\u001b[0m\n\u001b[1;32m     84\u001b[0m     \u001b[0;32mtry\u001b[0m\u001b[0;34m:\u001b[0m\u001b[0;34m\u001b[0m\u001b[0;34m\u001b[0m\u001b[0m\n",
      "\u001b[0;31mKeyError\u001b[0m: "
     ]
    }
   ],
   "source": [
    "# Define arguments to be able to connect to Twitter API for the last 30 days of tweets\n",
    "premium_30day_search_args = load_credentials(filename=\".twitter_keys.yaml\",\n",
    "                 yaml_key=\"search_30day_tweets_api\",\n",
    "                 env_overwrite=False)\n",
    "\n",
    "# Define arguments to be able to connect to Twitter API for the last 30 days of tweets\n",
    "premium_fullarchive_search_args = load_credentials(filename=\".twitter_keys.yaml\",\n",
    "                 yaml_key=\"search_fullarchive_tweets_api\",\n",
    "                 env_overwrite=False)\n"
   ]
  },
  {
   "cell_type": "markdown",
   "metadata": {},
   "source": [
    "### Extract last 30 days data"
   ]
  },
  {
   "cell_type": "code",
   "execution_count": 3,
   "metadata": {},
   "outputs": [],
   "source": [
    "# Extract last 30 days tweets using Twitter API\n",
    "# This is due to tweets older than 30 days use a different end point and limit quota\n",
    "\n",
    "write_to_disk = False\n",
    "if write_to_disk:\n",
    "    all_tweets = []\n",
    "    for t in list(range(1,30)):\n",
    "        from_date = str(t).zfill(2)\n",
    "        to_date = str(t+1).zfill(2)\n",
    "\n",
    "        rule = gen_rule_payload(\n",
    "            \"UK coronavirus lang:en\",\n",
    "            from_date=f\"2020-05-{from_date}\", \n",
    "            to_date=f\"2020-05-{to_date}\",\n",
    "            results_per_call=100\n",
    "        )\n",
    "\n",
    "        tweets = collect_results(rule, max_results=500, result_stream_args=premium_30day_search_args) \n",
    "\n",
    "        all_tweets.extend(tweets)\n",
    "        print(len(all_tweets))\n",
    "        # Set a sleep time to avoid hitting API limits\n",
    "        time.sleep(10)\n",
    "\n",
    "        # Write extacted tweets to a JSON file\n",
    "        with open('data.json', 'w', encoding='utf-8') as f:\n",
    "            json.dump(all_tweets, f, indent=4, ensure_ascii=False)\n",
    "        \n",
    "        "
   ]
  },
  {
   "cell_type": "markdown",
   "metadata": {},
   "source": [
    "### Extract data older than 30 days"
   ]
  },
  {
   "cell_type": "code",
   "execution_count": 4,
   "metadata": {},
   "outputs": [],
   "source": [
    "# Extract tweets older than 30 days\n",
    "# This is due to tweets older than 30 days use a different end point and limit quota\n",
    "\n",
    "# Extract tweets older then 30 days using Twitter API\n",
    "write_to_disk = False\n",
    "if write_to_disk:\n",
    "    month = '04' # specify month number\n",
    "#     all_tweets = []\n",
    "    for t in list(range(1,30)):\n",
    "        from_date = str(t).zfill(2)\n",
    "        to_date = str(t+1).zfill(2)\n",
    "\n",
    "        rule = gen_rule_payload(\n",
    "            \"UK coronavirus lang:en\",\n",
    "            from_date=f\"2020-{month}-{from_date}\", \n",
    "            to_date=f\"2020-{month}-{to_date}\",\n",
    "            results_per_call=100\n",
    "        )\n",
    "\n",
    "        tweets = collect_results(rule, max_results=150, result_stream_args=premium_fullarchive_search_args) \n",
    "\n",
    "        all_tweets.extend(tweets)\n",
    "        print(f\"2020-{month}-{to_date}\")\n",
    "        print(len(all_tweets))\n",
    "        print('---')\n",
    "        # Set a sleep time to avoid hitting API limits\n",
    "        time.sleep(10)\n",
    "\n",
    "        # Write extacted tweets to a JSON file\n",
    "        with open('data.json', 'w', encoding='utf-8') as f:\n",
    "            json.dump(all_tweets, f, indent=4, ensure_ascii=False)"
   ]
  },
  {
   "cell_type": "markdown",
   "metadata": {},
   "source": [
    "### Load tweet data"
   ]
  },
  {
   "cell_type": "code",
   "execution_count": 5,
   "metadata": {},
   "outputs": [
    {
     "ename": "FileNotFoundError",
     "evalue": "[Errno 2] No such file or directory: 'data.json'",
     "output_type": "error",
     "traceback": [
      "\u001b[0;31m---------------------------------------------------------------------------\u001b[0m",
      "\u001b[0;31mFileNotFoundError\u001b[0m                         Traceback (most recent call last)",
      "\u001b[0;32m<ipython-input-5-99ce6d8bc4d4>\u001b[0m in \u001b[0;36m<module>\u001b[0;34m\u001b[0m\n\u001b[1;32m      1\u001b[0m \u001b[0;31m# Read JSON file that contains tweet data\u001b[0m\u001b[0;34m\u001b[0m\u001b[0;34m\u001b[0m\u001b[0;34m\u001b[0m\u001b[0m\n\u001b[0;32m----> 2\u001b[0;31m \u001b[0;32mwith\u001b[0m \u001b[0mopen\u001b[0m\u001b[0;34m(\u001b[0m\u001b[0;34m'data.json'\u001b[0m\u001b[0;34m,\u001b[0m \u001b[0;34m'r'\u001b[0m\u001b[0;34m,\u001b[0m\u001b[0;34m)\u001b[0m \u001b[0;32mas\u001b[0m \u001b[0mf\u001b[0m\u001b[0;34m:\u001b[0m\u001b[0;34m\u001b[0m\u001b[0;34m\u001b[0m\u001b[0m\n\u001b[0m\u001b[1;32m      3\u001b[0m     \u001b[0mtweets\u001b[0m \u001b[0;34m=\u001b[0m \u001b[0mjson\u001b[0m\u001b[0;34m.\u001b[0m\u001b[0mload\u001b[0m\u001b[0;34m(\u001b[0m\u001b[0mf\u001b[0m\u001b[0;34m)\u001b[0m\u001b[0;34m\u001b[0m\u001b[0;34m\u001b[0m\u001b[0m\n\u001b[1;32m      4\u001b[0m \u001b[0;34m\u001b[0m\u001b[0m\n\u001b[1;32m      5\u001b[0m \u001b[0;31m# Check number of tweets\u001b[0m\u001b[0;34m\u001b[0m\u001b[0;34m\u001b[0m\u001b[0;34m\u001b[0m\u001b[0m\n",
      "\u001b[0;31mFileNotFoundError\u001b[0m: [Errno 2] No such file or directory: 'data.json'"
     ]
    }
   ],
   "source": [
    "# Read JSON file that contains tweet data\n",
    "with open('data.json', 'r',) as f:\n",
    "    tweets = json.load(f)\n",
    "\n",
    "# Check number of tweets\n",
    "len(tweets)"
   ]
  },
  {
   "cell_type": "code",
   "execution_count": 6,
   "metadata": {},
   "outputs": [
    {
     "ename": "NameError",
     "evalue": "name 'tweets' is not defined",
     "output_type": "error",
     "traceback": [
      "\u001b[0;31m---------------------------------------------------------------------------\u001b[0m",
      "\u001b[0;31mNameError\u001b[0m                                 Traceback (most recent call last)",
      "\u001b[0;32m<ipython-input-6-5fb1c8155798>\u001b[0m in \u001b[0;36m<module>\u001b[0;34m\u001b[0m\n\u001b[1;32m      1\u001b[0m \u001b[0;31m# Print twitter text sample\u001b[0m\u001b[0;34m\u001b[0m\u001b[0;34m\u001b[0m\u001b[0;34m\u001b[0m\u001b[0m\n\u001b[0;32m----> 2\u001b[0;31m \u001b[0;34m[\u001b[0m\u001b[0mprint\u001b[0m\u001b[0;34m(\u001b[0m\u001b[0mtweet\u001b[0m\u001b[0;34m.\u001b[0m\u001b[0mget\u001b[0m\u001b[0;34m(\u001b[0m\u001b[0;34m'text'\u001b[0m\u001b[0;34m)\u001b[0m\u001b[0;34m,\u001b[0m\u001b[0;34m'\\n\\n'\u001b[0m\u001b[0;34m)\u001b[0m \u001b[0;32mfor\u001b[0m \u001b[0mtweet\u001b[0m \u001b[0;32min\u001b[0m \u001b[0mtweets\u001b[0m\u001b[0;34m[\u001b[0m\u001b[0;36m0\u001b[0m\u001b[0;34m:\u001b[0m\u001b[0;36m3\u001b[0m\u001b[0;34m]\u001b[0m\u001b[0;34m]\u001b[0m\u001b[0;34m\u001b[0m\u001b[0;34m\u001b[0m\u001b[0m\n\u001b[0m",
      "\u001b[0;31mNameError\u001b[0m: name 'tweets' is not defined"
     ]
    }
   ],
   "source": [
    "# Print twitter text sample\n",
    "[print(tweet.get('text'),'\\n\\n') for tweet in tweets[0:3]]"
   ]
  },
  {
   "cell_type": "code",
   "execution_count": null,
   "metadata": {},
   "outputs": [],
   "source": [
    "# Check all keys associated with individual tweet objects\n",
    "tweet_keys = []\n",
    "for t in tweets:\n",
    "    tweet_keys.extend(list(t.keys()))\n",
    "    tweet_keys = list(set(tweet_keys))\n",
    "    \n",
    "tweet_keys = sorted(tweet_keys)\n",
    "tweet_keys"
   ]
  },
  {
   "cell_type": "code",
   "execution_count": null,
   "metadata": {},
   "outputs": [],
   "source": [
    "# Check whether all tweets are unique tweets\n",
    "unique_tweets = []\n",
    "ids = []\n",
    "for t in tweets:\n",
    "    if not t.get('id') in ids:\n",
    "        ids.append(t.get('id'))\n",
    "        unique_tweets.append(t)\n",
    "    else:\n",
    "        pass\n",
    "\n",
    "len(unique_tweets)"
   ]
  },
  {
   "cell_type": "code",
   "execution_count": null,
   "metadata": {},
   "outputs": [],
   "source": [
    "# Extract text content from individual tweets\n",
    "write_text_tweets = True\n",
    "\n",
    "if write_text_tweets:\n",
    "    \n",
    "    text_tweets = []\n",
    "    for t in unique_tweets:\n",
    "        t_ = {}\n",
    "        if t.get('retweeted_status'):\n",
    "            t_['id'] = t.get('retweeted_status').get('id')\n",
    "            t_['created_at'] = t.get('retweeted_status').get('created_at')\n",
    "            if t.get('retweeted_status').get('extended_tweet'):\n",
    "                t_['text'] = t.get('retweeted_status').get('extended_tweet').get('full_text')\n",
    "            else:\n",
    "                t_['text'] = t.get('retweeted_status').get('text')\n",
    "        else:\n",
    "            t_['id'] = t.get('id')\n",
    "            t_['created_at'] = t.get('created_at')\n",
    "            if t.get('extended_tweet'):\n",
    "                t_['text'] = t.get('extended_tweet').get('full_text')\n",
    "            else:\n",
    "                t_['text'] = t.get('text')\n",
    "\n",
    "        text_tweets.append(t_)\n",
    "\n",
    "    print(len(text_tweets))\n",
    "\n",
    "    df = pd.DataFrame(text_tweets)\n",
    "    df.to_csv('tweets.csv', encoding='utf-8', index=False)\n",
    "    print('Tweet text saved to file!')\n",
    "            "
   ]
  },
  {
   "cell_type": "code",
   "execution_count": null,
   "metadata": {},
   "outputs": [],
   "source": [
    "df.head()"
   ]
  },
  {
   "cell_type": "markdown",
   "metadata": {},
   "source": [
    "## Scrubbing the text"
   ]
  },
  {
   "cell_type": "code",
   "execution_count": null,
   "metadata": {},
   "outputs": [],
   "source": [
    "def remove_emojis(text):\n",
    "    import re\n",
    "    emoj = re.compile(\"[\"\n",
    "        u\"\\U0001F600-\\U0001F64F\"  # emoticons\n",
    "        u\"\\U0001F300-\\U0001F5FF\"  # symbols & pictographs\n",
    "        u\"\\U0001F680-\\U0001F6FF\"  # transport & map symbols\n",
    "        u\"\\U0001F1E0-\\U0001F1FF\"  # flags (iOS)\n",
    "        u\"\\U00002500-\\U00002BEF\"  # chinese char\n",
    "        u\"\\U00002702-\\U000027B0\"\n",
    "        u\"\\U00002702-\\U000027B0\"\n",
    "        u\"\\U000024C2-\\U0001F251\"\n",
    "        u\"\\U0001f926-\\U0001f937\"\n",
    "        u\"\\U00010000-\\U0010ffff\"\n",
    "        u\"\\u2640-\\u2642\" \n",
    "        u\"\\u2600-\\u2B55\"\n",
    "        u\"\\u200d\"\n",
    "        u\"\\u23cf\"\n",
    "        u\"\\u23e9\"\n",
    "        u\"\\u231a\"\n",
    "        u\"\\ufe0f\"  # dingbats\n",
    "        u\"\\u3030\"\n",
    "                      \"]+\", re.UNICODE)\n",
    "    return re.sub(emoj, '', text)"
   ]
  },
  {
   "cell_type": "code",
   "execution_count": null,
   "metadata": {},
   "outputs": [],
   "source": [
    "# Define text processing function\n",
    "def preprocess(text):\n",
    "    import re, string\n",
    "    \n",
    "    text = text.replace('(<br/>)', ' ')\n",
    "    text = text.replace('(&amp)', ' ')\n",
    "    text = text.replace('(&gt)', ' ')\n",
    "    text = text.replace('(&lt)', ' ')\n",
    "    text = text.replace('(\\xa0)', ' ')\n",
    "    text = text.replace(r'\\n',' ',)\n",
    "    text = text.replace('\"',' ',)\n",
    "    text = text.replace(\"'\",' ',)\n",
    "    \n",
    "    # Remove URL\n",
    "    text = re.sub(r\"(?:\\@|http?\\://|https?\\://|www.)\\S+\", \"\", text)\n",
    "    \n",
    "    # Remove emoji\n",
    "    text = remove_emojis(text)\n",
    "    \n",
    "    # Remove punctuation\n",
    "    text = text.translate(str.maketrans(' ', ' ', string.punctuation))\n",
    "    \n",
    "    # Remove white space\n",
    "    text = \" \".join(text.split())\n",
    "    \n",
    "    return text"
   ]
  },
  {
   "cell_type": "code",
   "execution_count": null,
   "metadata": {},
   "outputs": [],
   "source": [
    "df['cleaned_text'] = df['text'].apply(preprocess)\n"
   ]
  },
  {
   "cell_type": "code",
   "execution_count": null,
   "metadata": {},
   "outputs": [],
   "source": [
    "df.head()\\\n"
   ]
  },
  {
   "cell_type": "code",
   "execution_count": null,
   "metadata": {},
   "outputs": [],
   "source": [
    "# Saving tweet data as csv\n",
    "df.to_csv('cleaned_tweets.csv', encoding='utf-8', index=False)\n"
   ]
  },
  {
   "cell_type": "markdown",
   "metadata": {},
   "source": [
    "## Exploratory Data Analysis  "
   ]
  },
  {
   "cell_type": "markdown",
   "metadata": {},
   "source": [
    "### VADER Sentiment Analysis and Feature Engineering"
   ]
  },
  {
   "cell_type": "code",
   "execution_count": null,
   "metadata": {},
   "outputs": [],
   "source": [
    "from vaderSentiment.vaderSentiment import SentimentIntensityAnalyzer\n",
    "\n",
    "analyzer = SentimentIntensityAnalyzer()\n",
    "\n",
    "# Creating columns for each polarity score\n",
    "df['negative'] = df['cleaned_text'].apply(lambda cleaned_text: analyzer.polarity_scores(cleaned_text)['neg'])\n",
    "df['neutral'] = df['cleaned_text'].apply(lambda cleaned_text: analyzer.polarity_scores(cleaned_text)['neu'])\n",
    "df['positive'] = df['cleaned_text'].apply(lambda cleaned_text: analyzer.polarity_scores(cleaned_text)['pos'])\n",
    "df['compound'] = df['cleaned_text'].apply(lambda cleaned_text: analyzer.polarity_scores(cleaned_text)['compound'])\n"
   ]
  },
  {
   "cell_type": "code",
   "execution_count": null,
   "metadata": {
    "scrolled": true
   },
   "outputs": [],
   "source": [
    "df.info()"
   ]
  },
  {
   "cell_type": "markdown",
   "metadata": {},
   "source": [
    "It is also useful for researchers who would like to set standardized thresholds for classifying sentences as either positive, neutral, or negative. Typical threshold values (used in the literature cited on this page) are:\n",
    "\n",
    "positive sentiment: compound score >= 0.05\n",
    "\n",
    "neutral sentiment: (compound score > -0.05) and (compound score < 0.05)\n",
    "\n",
    "negative sentiment: compound score <= -0.05"
   ]
  },
  {
   "cell_type": "code",
   "execution_count": null,
   "metadata": {},
   "outputs": [],
   "source": [
    "df['vader_score'] = df['compound'].apply(lambda x: -1 if x<= -0.06 else(1 if x>= 0.06 else 0))"
   ]
  },
  {
   "cell_type": "code",
   "execution_count": null,
   "metadata": {},
   "outputs": [],
   "source": [
    "fig, ax = plt.subplots(figsize=(12,8))\n",
    "df['vader_score'].value_counts(normalize=True).plot.bar()\n",
    "ax.set_ylabel('Percentage')\n",
    "ax.set_xlabel('Labels')\n",
    "ax.set_title('Distribution of Sentiment')\n",
    "plt.show()"
   ]
  },
  {
   "cell_type": "markdown",
   "metadata": {},
   "source": [
    "### Visualizing  Time Series"
   ]
  },
  {
   "cell_type": "code",
   "execution_count": null,
   "metadata": {},
   "outputs": [],
   "source": [
    "# Converting the columns type to datetime\n",
    "df['date'] = pd.to_datetime(df['created_at'], errors='coerce')\n",
    "df.head()\n"
   ]
  },
  {
   "cell_type": "code",
   "execution_count": null,
   "metadata": {},
   "outputs": [],
   "source": [
    "# Defining a new dataframe and setting date as index\n",
    "df_a = df[['date', 'negative', 'neutral', 'positive', 'compound']].set_index('date')\n",
    "df_a.head()\n"
   ]
  },
  {
   "cell_type": "code",
   "execution_count": null,
   "metadata": {},
   "outputs": [],
   "source": [
    "# Limiting index with the related tweet data\n",
    "df_ = df_a['2020-03-15':'2020-05-30']\n",
    "df_.index.min()\n"
   ]
  },
  {
   "cell_type": "code",
   "execution_count": null,
   "metadata": {},
   "outputs": [],
   "source": [
    "# Calculating daily average for each column\n",
    "av_daily = df_.resample('D').mean()\n",
    "av_daily.head(10)\n"
   ]
  },
  {
   "cell_type": "code",
   "execution_count": null,
   "metadata": {},
   "outputs": [],
   "source": [
    "# Visualizing polarity scores\n",
    "import matplotlib.pyplot as plt\n",
    "%matplotlib inline\n",
    "\n",
    "av_daily.plot(figsize = (18,10), subplots=False, legend=True)\n",
    "plt.show()\n"
   ]
  },
  {
   "cell_type": "code",
   "execution_count": null,
   "metadata": {},
   "outputs": [],
   "source": [
    "# Plot the yearly groups as subplots\n",
    "av_daily.plot(figsize = (22,15), subplots=True, legend=True)\n",
    "plt.show()\n"
   ]
  },
  {
   "cell_type": "markdown",
   "metadata": {},
   "source": [
    "### Ngram Exploration\n"
   ]
  },
  {
   "cell_type": "markdown",
   "metadata": {},
   "source": [
    "#### Unigrams "
   ]
  },
  {
   "cell_type": "code",
   "execution_count": null,
   "metadata": {},
   "outputs": [],
   "source": [
    "import nltk\n",
    "from nltk.corpus import stopwords\n",
    "import string\n",
    "from nltk import word_tokenize, FreqDist\n",
    "from sklearn.feature_extraction.text import TfidfVectorizer\n",
    "from sklearn.feature_extraction.text import CountVectorizer\n",
    "import numpy as np\n",
    "np.random.seed(0)\n"
   ]
  },
  {
   "cell_type": "code",
   "execution_count": null,
   "metadata": {},
   "outputs": [],
   "source": [
    "# \n",
    "def get_top_n_words(corpus, n=None):\n",
    "    \"\"\"\n",
    "    List the top n words in a vocabulary according to occurrence in a text corpus.\n",
    "    \"\"\"\n",
    "    vec = CountVectorizer(stop_words = 'english').fit(corpus)\n",
    "    bag_of_words = vec.transform(corpus)\n",
    "    sum_words = bag_of_words.sum(axis=0) \n",
    "    words_freq = [(word, sum_words[0, idx]) for word, idx in vec.vocabulary_.items()]\n",
    "    words_freq =sorted(words_freq, key = lambda x: x[1], reverse=True)\n",
    "    return words_freq[:n]\n"
   ]
  },
  {
   "cell_type": "code",
   "execution_count": null,
   "metadata": {},
   "outputs": [],
   "source": [
    "# Getting top 50 unigrams\n",
    "unigrams = get_top_n_words(df['cleaned_text'],50)\n"
   ]
  },
  {
   "cell_type": "code",
   "execution_count": null,
   "metadata": {},
   "outputs": [],
   "source": [
    "# Visualizing top 50 unigrams\n",
    "df_uni = pd.DataFrame(unigrams, columns = ['text' , 'count'])\n",
    "\n",
    "plt.style.use('ggplot')\n",
    "fig, ax = plt.subplots(figsize=(12,12))\n",
    "df_uni.groupby('text').sum()['count'].sort_values(ascending=True).plot.barh(ax=ax);\n",
    "ax.set_xlabel('Count')\n",
    "ax.set_ylabel('Unigrams')\n",
    "ax.set_title('Top 50 Unigrams')\n",
    "plt.show()\n"
   ]
  },
  {
   "cell_type": "code",
   "execution_count": null,
   "metadata": {},
   "outputs": [],
   "source": [
    "pos = df[df['vader_score']== 1]\n",
    "neg = df[df['vader_score']== -1]\n",
    "neutral = df[df['vader_score']== 0]"
   ]
  },
  {
   "cell_type": "code",
   "execution_count": null,
   "metadata": {},
   "outputs": [],
   "source": [
    "pos_unigrams = get_top_n_words(pos['cleaned_text'],20)\n",
    "neg_unigrams = get_top_n_words(neg['cleaned_text'],20)\n",
    "neutral_unigrams = get_top_n_words(neutral['cleaned_text'],20)"
   ]
  },
  {
   "cell_type": "code",
   "execution_count": null,
   "metadata": {
    "scrolled": false
   },
   "outputs": [],
   "source": [
    "fig, ax = plt.subplots(figsize=(10,10))\n",
    "df1 = pd.DataFrame(pos_unigrams, columns = ['text' , 'count'])\n",
    "df1.groupby('text').sum()['count'].sort_values(ascending=True).plot.barh(ax=ax)\n",
    "ax.set_xlabel('Count')\n",
    "ax.set_ylabel('Unigrams')\n",
    "ax.set_title('Top 20 Unigrams in positive text')\n",
    "plt.show()\n",
    "\n",
    "fig, ax = plt.subplots(figsize=(10,10))\n",
    "df2 = pd.DataFrame(neg_unigrams, columns = ['text' , 'count'])\n",
    "df2.groupby('text').sum()['count'].sort_values(ascending=True).plot.barh(ax=ax)\n",
    "ax.set_xlabel('Count')\n",
    "ax.set_ylabel('Unigrams')\n",
    "ax.set_title('Top 20 Unigrams in negative text')\n",
    "plt.show()\n",
    "\n",
    "fig, ax = plt.subplots(figsize=(10,10))\n",
    "df3 = pd.DataFrame(neutral_unigrams, columns = ['text' , 'count'])\n",
    "df3.groupby('text').sum()['count'].sort_values(ascending=True).plot.barh(ax=ax)\n",
    "ax.set_xlabel('Count')\n",
    "ax.set_ylabel('Unigrams')\n",
    "ax.set_title('Top 20 Unigrams in negative text')\n",
    "plt.show()"
   ]
  },
  {
   "cell_type": "markdown",
   "metadata": {},
   "source": [
    "#### Bigrams "
   ]
  },
  {
   "cell_type": "code",
   "execution_count": null,
   "metadata": {},
   "outputs": [],
   "source": [
    "def get_top_n_gram(corpus,ngram_range,n=None):\n",
    "    vec = CountVectorizer(ngram_range=ngram_range,stop_words = 'english').fit(corpus)\n",
    "    bag_of_words = vec.transform(corpus)\n",
    "    sum_words = bag_of_words.sum(axis=0) \n",
    "    words_freq = [(word, sum_words[0, idx]) for word, idx in vec.vocabulary_.items()]\n",
    "    words_freq =sorted(words_freq, key = lambda x: x[1], reverse=True)\n",
    "    return words_freq[:n]"
   ]
  },
  {
   "cell_type": "code",
   "execution_count": null,
   "metadata": {},
   "outputs": [],
   "source": [
    "bigrams = get_top_n_gram(df['cleaned_text'],(2,2),50)"
   ]
  },
  {
   "cell_type": "code",
   "execution_count": null,
   "metadata": {},
   "outputs": [],
   "source": [
    "fig, ax = plt.subplots(figsize=(12,12))\n",
    "df_bigram = pd.DataFrame(bigrams, columns = ['text' , 'count'])\n",
    "df_bigram.groupby('text').sum()['count'].sort_values(ascending=True).plot.barh(ax=ax);\n",
    "ax.set_xlabel('Count')\n",
    "ax.set_ylabel('Bigrams')\n",
    "ax.set_title('Top 50 Bigrams')\n",
    "plt.show()"
   ]
  },
  {
   "cell_type": "code",
   "execution_count": null,
   "metadata": {},
   "outputs": [],
   "source": [
    "pos_bigrams = get_top_n_gram(pos['cleaned_text'],(2,2),20)\n",
    "neg_bigrams = get_top_n_gram(neg['cleaned_text'],(2,2),20)\n",
    "neutral_bigrams = get_top_n_gram(neutral['cleaned_text'],(2,2),20)\n"
   ]
  },
  {
   "cell_type": "code",
   "execution_count": null,
   "metadata": {
    "scrolled": false
   },
   "outputs": [],
   "source": [
    "fig, ax = plt.subplots(figsize=(10,10))\n",
    "df1 = pd.DataFrame(pos_bigrams, columns = ['text' , 'count'])\n",
    "df1.groupby('text').sum()['count'].sort_values(ascending=True).plot.barh(ax=ax)\n",
    "ax.set_xlabel('Count')\n",
    "ax.set_ylabel('Bigrams')\n",
    "ax.set_title('Top 20 Bigrams in positive text')\n",
    "plt.show()\n",
    "\n",
    "fig, ax = plt.subplots(figsize=(10,10))\n",
    "df2 = pd.DataFrame(neg_bigrams, columns = ['text' , 'count'])\n",
    "df2.groupby('text').sum()['count'].sort_values(ascending=True).plot.barh(ax=ax)\n",
    "ax.set_xlabel('Count')\n",
    "ax.set_ylabel('Bigrams')\n",
    "ax.set_title('Top 20 Bigrams in negative text')\n",
    "plt.show()\n",
    "\n",
    "fig, ax = plt.subplots(figsize=(10,10))\n",
    "df3 = pd.DataFrame(neutral_bigrams, columns = ['text' , 'count'])\n",
    "df3.groupby('text').sum()['count'].sort_values(ascending=True).plot.barh(ax=ax)\n",
    "ax.set_xlabel('Count')\n",
    "ax.set_ylabel('Bigrams')\n",
    "ax.set_title('Top 20 Bigrams in negative text')\n",
    "plt.show()"
   ]
  },
  {
   "cell_type": "markdown",
   "metadata": {},
   "source": [
    "####  Trigrams"
   ]
  },
  {
   "cell_type": "code",
   "execution_count": null,
   "metadata": {},
   "outputs": [],
   "source": [
    "trigrams = get_top_n_gram(df['cleaned_text'],(3,3),20)"
   ]
  },
  {
   "cell_type": "code",
   "execution_count": null,
   "metadata": {},
   "outputs": [],
   "source": [
    "df_trigrams = pd.DataFrame(trigrams, columns = ['text' , 'count'])\n",
    "\n",
    "fig, ax = plt.subplots(figsize=(10,10))\n",
    "df_trigrams.groupby('text').sum()['count'].sort_values(ascending=True).plot.barh(ax=ax);\n",
    "ax.set_xlabel('Count')\n",
    "ax.set_ylabel('Trigrams')\n",
    "ax.set_title('Top 20 Trigrams')\n",
    "plt.show()"
   ]
  },
  {
   "cell_type": "code",
   "execution_count": null,
   "metadata": {},
   "outputs": [],
   "source": [
    "pos_trigrams = get_top_n_gram(pos['cleaned_text'],(3,3),20)\n",
    "neg_trigrams = get_top_n_gram(neg['cleaned_text'],(3,3),20)\n",
    "neutral_trigrams = get_top_n_gram(neutral['cleaned_text'],(3,3),20)"
   ]
  },
  {
   "cell_type": "code",
   "execution_count": null,
   "metadata": {
    "scrolled": false
   },
   "outputs": [],
   "source": [
    "fig, ax = plt.subplots(figsize=(10,10))\n",
    "df1 = pd.DataFrame(pos_trigrams, columns = ['text' , 'count'])\n",
    "df1.groupby('text').sum()['count'].sort_values(ascending=True).plot.barh(ax=ax)\n",
    "ax.set_xlabel('Quantity')\n",
    "ax.set_ylabel('Trigrams')\n",
    "ax.set_title('Top 20 Trigrams in positive text')\n",
    "plt.show()\n",
    "\n",
    "fig, ax = plt.subplots(figsize=(10,10))\n",
    "df2 = pd.DataFrame(neg_trigrams, columns = ['text' , 'count'])\n",
    "df2.groupby('text').sum()['count'].sort_values(ascending=True).plot.barh(ax=ax)\n",
    "ax.set_xlabel('Quantity')\n",
    "ax.set_ylabel('Trigrams')\n",
    "ax.set_title('Top 20 Trigrams in negative text')\n",
    "plt.show()\n",
    "\n",
    "fig, ax = plt.subplots(figsize=(10,10))\n",
    "df3 = pd.DataFrame(neutral_trigrams, columns = ['text' , 'count'])\n",
    "df3.groupby('text').sum()['count'].sort_values(ascending=True).plot.barh(ax=ax)\n",
    "ax.set_xlabel('Quantity')\n",
    "ax.set_ylabel('Trigrams')\n",
    "ax.set_title('Top 20 Trigrams in negative text')\n",
    "plt.show()"
   ]
  },
  {
   "cell_type": "markdown",
   "metadata": {},
   "source": [
    "### Text Statistics"
   ]
  },
  {
   "cell_type": "markdown",
   "metadata": {},
   "source": [
    "#### Text word count analysis"
   ]
  },
  {
   "cell_type": "code",
   "execution_count": null,
   "metadata": {},
   "outputs": [],
   "source": [
    "df['text_len'] = df['cleaned_text'].astype(str).apply(len)\n",
    "df['text_word_count'] = df['cleaned_text'].apply(lambda x: len(str(x).split()))"
   ]
  },
  {
   "cell_type": "code",
   "execution_count": null,
   "metadata": {},
   "outputs": [],
   "source": [
    "import seaborn as sns\n",
    "\n",
    "plt.figure(figsize=(12,8))\n",
    "sns.set_color_codes()\n",
    "ax = sns.distplot(pos['text_word_count'], color=\"r\", kde=False)\n",
    "ax.set(title = 'Positive Text Word Count', xlabel = 'Text Count', ylabel = 'Frequency');\n",
    "\n",
    "plt.figure(figsize=(12,8))\n",
    "ax = sns.distplot(neg['text_word_count'], color=\"b\", kde=False)\n",
    "ax.set(title = 'Negative Text Word Count', xlabel = 'Text Count', ylabel = 'Frequency');\n",
    "\n",
    "plt.figure(figsize=(12,8))\n",
    "ax = sns.distplot(neutral['text_word_count'], color=\"g\", kde=False)\n",
    "ax.set(title = 'Neutral Text Word Count', xlabel = 'Text Count', ylabel = 'Frequency');"
   ]
  },
  {
   "cell_type": "markdown",
   "metadata": {},
   "source": [
    "#### Sentence length analysis"
   ]
  },
  {
   "cell_type": "code",
   "execution_count": null,
   "metadata": {},
   "outputs": [],
   "source": [
    "import seaborn as sns\n",
    "\n",
    "plt.figure(figsize=(12,8))\n",
    "sns.set_color_codes()\n",
    "ax = sns.distplot(pos['text_len'], color=\"r\", kde=False)\n",
    "ax.set(title = 'Positive Text Length Distribution', xlabel = 'Text Length', ylabel = 'Frequency');\n",
    "\n",
    "plt.figure(figsize=(12,8))\n",
    "ax = sns.distplot(neg['text_len'], color=\"b\", kde=False)\n",
    "ax.set(title = 'Negative Text Length Distribution', xlabel = 'Text Length', ylabel = 'Frequency');\n",
    "\n",
    "plt.figure(figsize=(12,8))\n",
    "ax = sns.distplot(neutral['text_len'], color=\"g\", kde=False)\n",
    "ax.set(title = 'Neutral Text Length Distribution', xlabel = 'Text Length', ylabel = 'Frequency');\n"
   ]
  },
  {
   "cell_type": "code",
   "execution_count": null,
   "metadata": {},
   "outputs": [],
   "source": [
    "import seaborn as sns\n",
    "fig, ax = plt.subplots(figsize=(16,8))\n",
    "ax = sns.violinplot(x=\"vader_score\", y='text_len', palette=\"Blues\", data=df);"
   ]
  },
  {
   "cell_type": "markdown",
   "metadata": {},
   "source": [
    "### WordClouds "
   ]
  },
  {
   "cell_type": "code",
   "execution_count": null,
   "metadata": {},
   "outputs": [],
   "source": [
    "positive_text = df[df['vader_score'] == 1]['cleaned_text']\n",
    "negative_text = df[df['vader_score'] == -1]['cleaned_text']\n",
    "neutral_text = df[df['vader_score'] == 0]['cleaned_text']"
   ]
  },
  {
   "cell_type": "code",
   "execution_count": null,
   "metadata": {},
   "outputs": [],
   "source": [
    "from wordcloud import WordCloud\n",
    "fig, (ax1, ax2, ax3) = plt.subplots(1, 3, figsize=[30, 15])\n",
    "wordcloud1 = WordCloud( background_color='white',\n",
    "                        width=600,\n",
    "                        height=400).generate(\" \".join(positive_text))\n",
    "ax1.imshow(wordcloud1)\n",
    "ax1.axis('off')\n",
    "ax1.set_title('Positive text',fontsize=30);\n",
    "\n",
    "wordcloud2 = WordCloud( background_color='white',\n",
    "                        width=600,\n",
    "                        height=400).generate(\" \".join(negative_text))\n",
    "ax2.imshow(wordcloud2)\n",
    "ax2.axis('off')\n",
    "ax2.set_title('Negative text',fontsize=30);\n",
    "\n",
    "wordcloud3 = WordCloud( background_color='white',\n",
    "                        width=600,\n",
    "                        height=400).generate(\" \".join(neutral_text))\n",
    "ax3.imshow(wordcloud3)\n",
    "ax3.axis('off')\n",
    "ax3.set_title('Neutral text',fontsize=30);"
   ]
  },
  {
   "cell_type": "markdown",
   "metadata": {},
   "source": [
    "## Modeling "
   ]
  },
  {
   "cell_type": "markdown",
   "metadata": {},
   "source": [
    "### Time Series  Analysis"
   ]
  },
  {
   "cell_type": "code",
   "execution_count": 148,
   "metadata": {},
   "outputs": [
    {
     "data": {
      "text/html": [
       "<div>\n",
       "<style scoped>\n",
       "    .dataframe tbody tr th:only-of-type {\n",
       "        vertical-align: middle;\n",
       "    }\n",
       "\n",
       "    .dataframe tbody tr th {\n",
       "        vertical-align: top;\n",
       "    }\n",
       "\n",
       "    .dataframe thead th {\n",
       "        text-align: right;\n",
       "    }\n",
       "</style>\n",
       "<table border=\"1\" class=\"dataframe\">\n",
       "  <thead>\n",
       "    <tr style=\"text-align: right;\">\n",
       "      <th></th>\n",
       "      <th>Area name</th>\n",
       "      <th>Area code</th>\n",
       "      <th>Area type</th>\n",
       "      <th>Reporting date</th>\n",
       "      <th>Daily change in deaths</th>\n",
       "      <th>Cumulative deaths</th>\n",
       "    </tr>\n",
       "  </thead>\n",
       "  <tbody>\n",
       "    <tr>\n",
       "      <th>0</th>\n",
       "      <td>Wales</td>\n",
       "      <td>W92000004</td>\n",
       "      <td>Nation</td>\n",
       "      <td>2020-06-09</td>\n",
       "      <td>9.0</td>\n",
       "      <td>1410</td>\n",
       "    </tr>\n",
       "    <tr>\n",
       "      <th>1</th>\n",
       "      <td>Scotland</td>\n",
       "      <td>S92000003</td>\n",
       "      <td>Nation</td>\n",
       "      <td>2020-06-09</td>\n",
       "      <td>0.0</td>\n",
       "      <td>2415</td>\n",
       "    </tr>\n",
       "    <tr>\n",
       "      <th>2</th>\n",
       "      <td>Northern Ireland</td>\n",
       "      <td>N92000002</td>\n",
       "      <td>Nation</td>\n",
       "      <td>2020-06-09</td>\n",
       "      <td>0.0</td>\n",
       "      <td>537</td>\n",
       "    </tr>\n",
       "    <tr>\n",
       "      <th>3</th>\n",
       "      <td>United Kingdom</td>\n",
       "      <td>K02000001</td>\n",
       "      <td>UK</td>\n",
       "      <td>2020-06-09</td>\n",
       "      <td>286.0</td>\n",
       "      <td>40883</td>\n",
       "    </tr>\n",
       "    <tr>\n",
       "      <th>4</th>\n",
       "      <td>England</td>\n",
       "      <td>E92000001</td>\n",
       "      <td>Nation</td>\n",
       "      <td>2020-06-09</td>\n",
       "      <td>277.0</td>\n",
       "      <td>36521</td>\n",
       "    </tr>\n",
       "    <tr>\n",
       "      <th>5</th>\n",
       "      <td>Wales</td>\n",
       "      <td>W92000004</td>\n",
       "      <td>Nation</td>\n",
       "      <td>2020-06-08</td>\n",
       "      <td>3.0</td>\n",
       "      <td>1401</td>\n",
       "    </tr>\n",
       "    <tr>\n",
       "      <th>6</th>\n",
       "      <td>Scotland</td>\n",
       "      <td>S92000003</td>\n",
       "      <td>Nation</td>\n",
       "      <td>2020-06-08</td>\n",
       "      <td>0.0</td>\n",
       "      <td>2415</td>\n",
       "    </tr>\n",
       "    <tr>\n",
       "      <th>7</th>\n",
       "      <td>Northern Ireland</td>\n",
       "      <td>N92000002</td>\n",
       "      <td>Nation</td>\n",
       "      <td>2020-06-08</td>\n",
       "      <td>0.0</td>\n",
       "      <td>537</td>\n",
       "    </tr>\n",
       "    <tr>\n",
       "      <th>8</th>\n",
       "      <td>United Kingdom</td>\n",
       "      <td>K02000001</td>\n",
       "      <td>UK</td>\n",
       "      <td>2020-06-08</td>\n",
       "      <td>55.0</td>\n",
       "      <td>40597</td>\n",
       "    </tr>\n",
       "    <tr>\n",
       "      <th>9</th>\n",
       "      <td>England</td>\n",
       "      <td>E92000001</td>\n",
       "      <td>Nation</td>\n",
       "      <td>2020-06-08</td>\n",
       "      <td>52.0</td>\n",
       "      <td>36244</td>\n",
       "    </tr>\n",
       "  </tbody>\n",
       "</table>\n",
       "</div>"
      ],
      "text/plain": [
       "          Area name  Area code Area type Reporting date  \\\n",
       "0             Wales  W92000004    Nation     2020-06-09   \n",
       "1          Scotland  S92000003    Nation     2020-06-09   \n",
       "2  Northern Ireland  N92000002    Nation     2020-06-09   \n",
       "3    United Kingdom  K02000001        UK     2020-06-09   \n",
       "4           England  E92000001    Nation     2020-06-09   \n",
       "5             Wales  W92000004    Nation     2020-06-08   \n",
       "6          Scotland  S92000003    Nation     2020-06-08   \n",
       "7  Northern Ireland  N92000002    Nation     2020-06-08   \n",
       "8    United Kingdom  K02000001        UK     2020-06-08   \n",
       "9           England  E92000001    Nation     2020-06-08   \n",
       "\n",
       "   Daily change in deaths  Cumulative deaths  \n",
       "0                     9.0               1410  \n",
       "1                     0.0               2415  \n",
       "2                     0.0                537  \n",
       "3                   286.0              40883  \n",
       "4                   277.0              36521  \n",
       "5                     3.0               1401  \n",
       "6                     0.0               2415  \n",
       "7                     0.0                537  \n",
       "8                    55.0              40597  \n",
       "9                    52.0              36244  "
      ]
     },
     "metadata": {},
     "output_type": "display_data"
    },
    {
     "data": {
      "text/html": [
       "<div>\n",
       "<style scoped>\n",
       "    .dataframe tbody tr th:only-of-type {\n",
       "        vertical-align: middle;\n",
       "    }\n",
       "\n",
       "    .dataframe tbody tr th {\n",
       "        vertical-align: top;\n",
       "    }\n",
       "\n",
       "    .dataframe thead th {\n",
       "        text-align: right;\n",
       "    }\n",
       "</style>\n",
       "<table border=\"1\" class=\"dataframe\">\n",
       "  <thead>\n",
       "    <tr style=\"text-align: right;\">\n",
       "      <th></th>\n",
       "      <th>Area name</th>\n",
       "      <th>Area code</th>\n",
       "      <th>Area type</th>\n",
       "      <th>Specimen date</th>\n",
       "      <th>Daily lab-confirmed cases</th>\n",
       "      <th>Previously reported daily cases</th>\n",
       "      <th>Change in daily cases</th>\n",
       "      <th>Cumulative lab-confirmed cases</th>\n",
       "      <th>Previously reported cumulative cases</th>\n",
       "      <th>Change in cumulative cases</th>\n",
       "      <th>Cumulative lab-confirmed cases rate</th>\n",
       "    </tr>\n",
       "  </thead>\n",
       "  <tbody>\n",
       "    <tr>\n",
       "      <th>0</th>\n",
       "      <td>England</td>\n",
       "      <td>E92000001</td>\n",
       "      <td>Nation</td>\n",
       "      <td>2020-06-08</td>\n",
       "      <td>11.0</td>\n",
       "      <td>0.0</td>\n",
       "      <td>11.0</td>\n",
       "      <td>155651</td>\n",
       "      <td>155000.0</td>\n",
       "      <td>651.0</td>\n",
       "      <td>278.1</td>\n",
       "    </tr>\n",
       "    <tr>\n",
       "      <th>1</th>\n",
       "      <td>South West</td>\n",
       "      <td>E12000009</td>\n",
       "      <td>Region</td>\n",
       "      <td>2020-06-08</td>\n",
       "      <td>1.0</td>\n",
       "      <td>NaN</td>\n",
       "      <td>NaN</td>\n",
       "      <td>7852</td>\n",
       "      <td>NaN</td>\n",
       "      <td>NaN</td>\n",
       "      <td>140.2</td>\n",
       "    </tr>\n",
       "    <tr>\n",
       "      <th>2</th>\n",
       "      <td>South East</td>\n",
       "      <td>E12000008</td>\n",
       "      <td>Region</td>\n",
       "      <td>2020-06-08</td>\n",
       "      <td>1.0</td>\n",
       "      <td>NaN</td>\n",
       "      <td>NaN</td>\n",
       "      <td>22090</td>\n",
       "      <td>NaN</td>\n",
       "      <td>NaN</td>\n",
       "      <td>241.9</td>\n",
       "    </tr>\n",
       "    <tr>\n",
       "      <th>3</th>\n",
       "      <td>London</td>\n",
       "      <td>E12000007</td>\n",
       "      <td>Region</td>\n",
       "      <td>2020-06-08</td>\n",
       "      <td>0.0</td>\n",
       "      <td>NaN</td>\n",
       "      <td>NaN</td>\n",
       "      <td>27194</td>\n",
       "      <td>NaN</td>\n",
       "      <td>NaN</td>\n",
       "      <td>305.3</td>\n",
       "    </tr>\n",
       "    <tr>\n",
       "      <th>4</th>\n",
       "      <td>East of England</td>\n",
       "      <td>E12000006</td>\n",
       "      <td>Region</td>\n",
       "      <td>2020-06-08</td>\n",
       "      <td>0.0</td>\n",
       "      <td>NaN</td>\n",
       "      <td>NaN</td>\n",
       "      <td>14712</td>\n",
       "      <td>NaN</td>\n",
       "      <td>NaN</td>\n",
       "      <td>237.2</td>\n",
       "    </tr>\n",
       "    <tr>\n",
       "      <th>5</th>\n",
       "      <td>West Midlands</td>\n",
       "      <td>E12000005</td>\n",
       "      <td>Region</td>\n",
       "      <td>2020-06-08</td>\n",
       "      <td>1.0</td>\n",
       "      <td>NaN</td>\n",
       "      <td>NaN</td>\n",
       "      <td>16531</td>\n",
       "      <td>NaN</td>\n",
       "      <td>NaN</td>\n",
       "      <td>280.2</td>\n",
       "    </tr>\n",
       "    <tr>\n",
       "      <th>6</th>\n",
       "      <td>East Midlands</td>\n",
       "      <td>E12000004</td>\n",
       "      <td>Region</td>\n",
       "      <td>2020-06-08</td>\n",
       "      <td>2.0</td>\n",
       "      <td>NaN</td>\n",
       "      <td>NaN</td>\n",
       "      <td>9450</td>\n",
       "      <td>NaN</td>\n",
       "      <td>NaN</td>\n",
       "      <td>196.7</td>\n",
       "    </tr>\n",
       "    <tr>\n",
       "      <th>7</th>\n",
       "      <td>Yorkshire and The Humber</td>\n",
       "      <td>E12000003</td>\n",
       "      <td>Region</td>\n",
       "      <td>2020-06-08</td>\n",
       "      <td>4.0</td>\n",
       "      <td>NaN</td>\n",
       "      <td>NaN</td>\n",
       "      <td>14714</td>\n",
       "      <td>NaN</td>\n",
       "      <td>NaN</td>\n",
       "      <td>268.5</td>\n",
       "    </tr>\n",
       "    <tr>\n",
       "      <th>8</th>\n",
       "      <td>North West</td>\n",
       "      <td>E12000002</td>\n",
       "      <td>Region</td>\n",
       "      <td>2020-06-08</td>\n",
       "      <td>2.0</td>\n",
       "      <td>NaN</td>\n",
       "      <td>NaN</td>\n",
       "      <td>26320</td>\n",
       "      <td>NaN</td>\n",
       "      <td>NaN</td>\n",
       "      <td>360.9</td>\n",
       "    </tr>\n",
       "    <tr>\n",
       "      <th>9</th>\n",
       "      <td>North East</td>\n",
       "      <td>E12000001</td>\n",
       "      <td>Region</td>\n",
       "      <td>2020-06-08</td>\n",
       "      <td>0.0</td>\n",
       "      <td>NaN</td>\n",
       "      <td>NaN</td>\n",
       "      <td>10390</td>\n",
       "      <td>NaN</td>\n",
       "      <td>NaN</td>\n",
       "      <td>390.9</td>\n",
       "    </tr>\n",
       "  </tbody>\n",
       "</table>\n",
       "</div>"
      ],
      "text/plain": [
       "                  Area name  Area code Area type Specimen date  \\\n",
       "0                   England  E92000001    Nation    2020-06-08   \n",
       "1                South West  E12000009    Region    2020-06-08   \n",
       "2                South East  E12000008    Region    2020-06-08   \n",
       "3                    London  E12000007    Region    2020-06-08   \n",
       "4           East of England  E12000006    Region    2020-06-08   \n",
       "5             West Midlands  E12000005    Region    2020-06-08   \n",
       "6             East Midlands  E12000004    Region    2020-06-08   \n",
       "7  Yorkshire and The Humber  E12000003    Region    2020-06-08   \n",
       "8                North West  E12000002    Region    2020-06-08   \n",
       "9                North East  E12000001    Region    2020-06-08   \n",
       "\n",
       "   Daily lab-confirmed cases  Previously reported daily cases  \\\n",
       "0                       11.0                              0.0   \n",
       "1                        1.0                              NaN   \n",
       "2                        1.0                              NaN   \n",
       "3                        0.0                              NaN   \n",
       "4                        0.0                              NaN   \n",
       "5                        1.0                              NaN   \n",
       "6                        2.0                              NaN   \n",
       "7                        4.0                              NaN   \n",
       "8                        2.0                              NaN   \n",
       "9                        0.0                              NaN   \n",
       "\n",
       "   Change in daily cases  Cumulative lab-confirmed cases  \\\n",
       "0                   11.0                          155651   \n",
       "1                    NaN                            7852   \n",
       "2                    NaN                           22090   \n",
       "3                    NaN                           27194   \n",
       "4                    NaN                           14712   \n",
       "5                    NaN                           16531   \n",
       "6                    NaN                            9450   \n",
       "7                    NaN                           14714   \n",
       "8                    NaN                           26320   \n",
       "9                    NaN                           10390   \n",
       "\n",
       "   Previously reported cumulative cases  Change in cumulative cases  \\\n",
       "0                              155000.0                       651.0   \n",
       "1                                   NaN                         NaN   \n",
       "2                                   NaN                         NaN   \n",
       "3                                   NaN                         NaN   \n",
       "4                                   NaN                         NaN   \n",
       "5                                   NaN                         NaN   \n",
       "6                                   NaN                         NaN   \n",
       "7                                   NaN                         NaN   \n",
       "8                                   NaN                         NaN   \n",
       "9                                   NaN                         NaN   \n",
       "\n",
       "   Cumulative lab-confirmed cases rate  \n",
       "0                                278.1  \n",
       "1                                140.2  \n",
       "2                                241.9  \n",
       "3                                305.3  \n",
       "4                                237.2  \n",
       "5                                280.2  \n",
       "6                                196.7  \n",
       "7                                268.5  \n",
       "8                                360.9  \n",
       "9                                390.9  "
      ]
     },
     "execution_count": 148,
     "metadata": {},
     "output_type": "execute_result"
    }
   ],
   "source": [
    "import pandas as pd\n",
    "df_deaths = pd.read_csv('coronavirus_deaths_latest.csv')\n",
    "df_cases = pd.read_csv('coronavirus_cases_latest.csv')\n",
    "display(df_deaths.head(10))\n",
    "df_cases.head(10)"
   ]
  },
  {
   "cell_type": "code",
   "execution_count": 149,
   "metadata": {},
   "outputs": [
    {
     "name": "stdout",
     "output_type": "stream",
     "text": [
      "<class 'pandas.core.frame.DataFrame'>\n",
      "RangeIndex: 446 entries, 0 to 445\n",
      "Data columns (total 6 columns):\n",
      " #   Column                  Non-Null Count  Dtype  \n",
      "---  ------                  --------------  -----  \n",
      " 0   Area name               446 non-null    object \n",
      " 1   Area code               446 non-null    object \n",
      " 2   Area type               446 non-null    object \n",
      " 3   Reporting date          446 non-null    object \n",
      " 4   Daily change in deaths  442 non-null    float64\n",
      " 5   Cumulative deaths       446 non-null    int64  \n",
      "dtypes: float64(1), int64(1), object(4)\n",
      "memory usage: 21.0+ KB\n"
     ]
    }
   ],
   "source": [
    "df_deaths.info()"
   ]
  },
  {
   "cell_type": "code",
   "execution_count": 150,
   "metadata": {},
   "outputs": [],
   "source": [
    "df_deaths['date'] = pd.to_datetime(df_deaths['Reporting date'], errors='coerce')"
   ]
  },
  {
   "cell_type": "code",
   "execution_count": 151,
   "metadata": {},
   "outputs": [
    {
     "data": {
      "text/plain": [
       "dtype('<M8[ns]')"
      ]
     },
     "execution_count": 151,
     "metadata": {},
     "output_type": "execute_result"
    }
   ],
   "source": [
    "df_deaths['date'].dtype"
   ]
  },
  {
   "cell_type": "code",
   "execution_count": 154,
   "metadata": {},
   "outputs": [],
   "source": [
    "df_deaths.sort_values(by=['date'], inplace=True, ascending=True)"
   ]
  },
  {
   "cell_type": "code",
   "execution_count": 155,
   "metadata": {},
   "outputs": [
    {
     "data": {
      "text/html": [
       "<div>\n",
       "<style scoped>\n",
       "    .dataframe tbody tr th:only-of-type {\n",
       "        vertical-align: middle;\n",
       "    }\n",
       "\n",
       "    .dataframe tbody tr th {\n",
       "        vertical-align: top;\n",
       "    }\n",
       "\n",
       "    .dataframe thead th {\n",
       "        text-align: right;\n",
       "    }\n",
       "</style>\n",
       "<table border=\"1\" class=\"dataframe\">\n",
       "  <thead>\n",
       "    <tr style=\"text-align: right;\">\n",
       "      <th></th>\n",
       "      <th>Area name</th>\n",
       "      <th>Area code</th>\n",
       "      <th>Area type</th>\n",
       "      <th>Reporting date</th>\n",
       "      <th>Daily change in deaths</th>\n",
       "      <th>Cumulative deaths</th>\n",
       "      <th>date</th>\n",
       "    </tr>\n",
       "  </thead>\n",
       "  <tbody>\n",
       "    <tr>\n",
       "      <th>445</th>\n",
       "      <td>England</td>\n",
       "      <td>E92000001</td>\n",
       "      <td>Nation</td>\n",
       "      <td>2020-03-06</td>\n",
       "      <td>NaN</td>\n",
       "      <td>1</td>\n",
       "      <td>2020-03-06</td>\n",
       "    </tr>\n",
       "    <tr>\n",
       "      <th>444</th>\n",
       "      <td>United Kingdom</td>\n",
       "      <td>K02000001</td>\n",
       "      <td>UK</td>\n",
       "      <td>2020-03-06</td>\n",
       "      <td>1.0</td>\n",
       "      <td>1</td>\n",
       "      <td>2020-03-06</td>\n",
       "    </tr>\n",
       "    <tr>\n",
       "      <th>442</th>\n",
       "      <td>United Kingdom</td>\n",
       "      <td>K02000001</td>\n",
       "      <td>UK</td>\n",
       "      <td>2020-03-07</td>\n",
       "      <td>1.0</td>\n",
       "      <td>2</td>\n",
       "      <td>2020-03-07</td>\n",
       "    </tr>\n",
       "    <tr>\n",
       "      <th>443</th>\n",
       "      <td>England</td>\n",
       "      <td>E92000001</td>\n",
       "      <td>Nation</td>\n",
       "      <td>2020-03-07</td>\n",
       "      <td>1.0</td>\n",
       "      <td>2</td>\n",
       "      <td>2020-03-07</td>\n",
       "    </tr>\n",
       "    <tr>\n",
       "      <th>440</th>\n",
       "      <td>United Kingdom</td>\n",
       "      <td>K02000001</td>\n",
       "      <td>UK</td>\n",
       "      <td>2020-03-08</td>\n",
       "      <td>0.0</td>\n",
       "      <td>2</td>\n",
       "      <td>2020-03-08</td>\n",
       "    </tr>\n",
       "  </tbody>\n",
       "</table>\n",
       "</div>"
      ],
      "text/plain": [
       "          Area name  Area code Area type Reporting date  \\\n",
       "445         England  E92000001    Nation     2020-03-06   \n",
       "444  United Kingdom  K02000001        UK     2020-03-06   \n",
       "442  United Kingdom  K02000001        UK     2020-03-07   \n",
       "443         England  E92000001    Nation     2020-03-07   \n",
       "440  United Kingdom  K02000001        UK     2020-03-08   \n",
       "\n",
       "     Daily change in deaths  Cumulative deaths       date  \n",
       "445                     NaN                  1 2020-03-06  \n",
       "444                     1.0                  1 2020-03-06  \n",
       "442                     1.0                  2 2020-03-07  \n",
       "443                     1.0                  2 2020-03-07  \n",
       "440                     0.0                  2 2020-03-08  "
      ]
     },
     "execution_count": 155,
     "metadata": {},
     "output_type": "execute_result"
    }
   ],
   "source": [
    "df_deaths.head()"
   ]
  },
  {
   "cell_type": "code",
   "execution_count": 156,
   "metadata": {},
   "outputs": [],
   "source": [
    "df_d= df_deaths[['date', 'Area name', 'Cumulative deaths']].set_index('date')"
   ]
  },
  {
   "cell_type": "code",
   "execution_count": 157,
   "metadata": {},
   "outputs": [],
   "source": [
    "df_d= df_d.loc[df_d['Area name']=='United Kingdom']"
   ]
  },
  {
   "cell_type": "code",
   "execution_count": 158,
   "metadata": {},
   "outputs": [],
   "source": [
    "df_d.drop(['Area name'], axis=1, inplace=True)"
   ]
  },
  {
   "cell_type": "code",
   "execution_count": 159,
   "metadata": {},
   "outputs": [
    {
     "data": {
      "text/html": [
       "<div>\n",
       "<style scoped>\n",
       "    .dataframe tbody tr th:only-of-type {\n",
       "        vertical-align: middle;\n",
       "    }\n",
       "\n",
       "    .dataframe tbody tr th {\n",
       "        vertical-align: top;\n",
       "    }\n",
       "\n",
       "    .dataframe thead th {\n",
       "        text-align: right;\n",
       "    }\n",
       "</style>\n",
       "<table border=\"1\" class=\"dataframe\">\n",
       "  <thead>\n",
       "    <tr style=\"text-align: right;\">\n",
       "      <th></th>\n",
       "      <th>Cumulative deaths</th>\n",
       "    </tr>\n",
       "    <tr>\n",
       "      <th>date</th>\n",
       "      <th></th>\n",
       "    </tr>\n",
       "  </thead>\n",
       "  <tbody>\n",
       "    <tr>\n",
       "      <th>2020-03-06</th>\n",
       "      <td>1</td>\n",
       "    </tr>\n",
       "    <tr>\n",
       "      <th>2020-03-07</th>\n",
       "      <td>2</td>\n",
       "    </tr>\n",
       "    <tr>\n",
       "      <th>2020-03-08</th>\n",
       "      <td>2</td>\n",
       "    </tr>\n",
       "    <tr>\n",
       "      <th>2020-03-09</th>\n",
       "      <td>3</td>\n",
       "    </tr>\n",
       "    <tr>\n",
       "      <th>2020-03-10</th>\n",
       "      <td>7</td>\n",
       "    </tr>\n",
       "  </tbody>\n",
       "</table>\n",
       "</div>"
      ],
      "text/plain": [
       "            Cumulative deaths\n",
       "date                         \n",
       "2020-03-06                  1\n",
       "2020-03-07                  2\n",
       "2020-03-08                  2\n",
       "2020-03-09                  3\n",
       "2020-03-10                  7"
      ]
     },
     "execution_count": 159,
     "metadata": {},
     "output_type": "execute_result"
    }
   ],
   "source": [
    "df_d.head()"
   ]
  },
  {
   "cell_type": "code",
   "execution_count": 160,
   "metadata": {},
   "outputs": [
    {
     "data": {
      "image/png": "[encoded data removed]",
      "text/plain": [
       "<Figure size 1080x432 with 1 Axes>"
      ]
     },
     "metadata": {
      "needs_background": "light"
     },
     "output_type": "display_data"
    }
   ],
   "source": [
    "import matplotlib.pyplot as plt\n",
    "%matplotlib inline\n",
    "df_d.plot(figsize=(15, 6))\n",
    "plt.show()"
   ]
  },
  {
   "cell_type": "code",
   "execution_count": 161,
   "metadata": {},
   "outputs": [],
   "source": [
    "# Import necessary libraries\n",
    "import warnings\n",
    "warnings.filterwarnings('ignore')\n",
    "import itertools\n",
    "import pandas as pd\n",
    "import numpy as np\n",
    "import statsmodels.api as sm\n",
    "import matplotlib.pyplot as plt\n",
    "from matplotlib.pylab import rcParams\n",
    "plt.style.use('ggplot')"
   ]
  },
  {
   "cell_type": "code",
   "execution_count": 162,
   "metadata": {},
   "outputs": [],
   "source": [
    "# Define the p, d and q parameters to take any value between 0 and 2\n",
    "p = d = q = range(0, 2)\n",
    "\n",
    "# Generate all different combinations of p, q and q triplets\n",
    "pdq = list(itertools.product(p, d, q))\n",
    "\n",
    "# Generate all different combinations of seasonal p, q and q triplets\n",
    "pdqs = [(x[0], x[1], x[2], 12) for x in list(itertools.product(p, d, q))]"
   ]
  },
  {
   "cell_type": "code",
   "execution_count": 163,
   "metadata": {},
   "outputs": [
    {
     "name": "stdout",
     "output_type": "stream",
     "text": [
      "ARIMA (0, 0, 0) x (0, 0, 0, 12)12 : AIC Calculated =2195.134023465834\n",
      "ARIMA (0, 0, 0) x (0, 0, 1, 12)12 : AIC Calculated =1890.5661327428281\n",
      "ARIMA (0, 0, 0) x (0, 1, 0, 12)12 : AIC Calculated =1697.961888509052\n",
      "ARIMA (0, 0, 0) x (0, 1, 1, 12)12 : AIC Calculated =1384.810223630005\n",
      "ARIMA (0, 0, 0) x (1, 0, 0, 12)12 : AIC Calculated =1675.9014000401849\n",
      "ARIMA (0, 0, 0) x (1, 0, 1, 12)12 : AIC Calculated =1613.4191759133917\n",
      "ARIMA (0, 0, 0) x (1, 1, 0, 12)12 : AIC Calculated =1379.8070793340823\n",
      "ARIMA (0, 0, 0) x (1, 1, 1, 12)12 : AIC Calculated =1344.074119048091\n",
      "ARIMA (0, 0, 1) x (0, 0, 0, 12)12 : AIC Calculated =2106.5136061090348\n",
      "ARIMA (0, 0, 1) x (0, 0, 1, 12)12 : AIC Calculated =1827.0011145932053\n",
      "ARIMA (0, 0, 1) x (0, 1, 0, 12)12 : AIC Calculated =1569.8290586615246\n",
      "ARIMA (0, 0, 1) x (0, 1, 1, 12)12 : AIC Calculated =1277.8979317564301\n",
      "ARIMA (0, 0, 1) x (1, 0, 0, 12)12 : AIC Calculated =1565.6339999491272\n",
      "ARIMA (0, 0, 1) x (1, 0, 1, 12)12 : AIC Calculated =1459.0554627870667\n",
      "ARIMA (0, 0, 1) x (1, 1, 0, 12)12 : AIC Calculated =1286.7548356130228\n",
      "ARIMA (0, 0, 1) x (1, 1, 1, 12)12 : AIC Calculated =1228.7313138765471\n",
      "ARIMA (0, 1, 0) x (0, 0, 0, 12)12 : AIC Calculated =1453.680326432873\n",
      "ARIMA (0, 1, 0) x (0, 0, 1, 12)12 : AIC Calculated =1228.2221516580712\n",
      "ARIMA (0, 1, 0) x (0, 1, 0, 12)12 : AIC Calculated =1206.9627423621923\n",
      "ARIMA (0, 1, 0) x (0, 1, 1, 12)12 : AIC Calculated =1040.47033588566\n",
      "ARIMA (0, 1, 0) x (1, 0, 0, 12)12 : AIC Calculated =1214.5734744497256\n",
      "ARIMA (0, 1, 0) x (1, 0, 1, 12)12 : AIC Calculated =1201.1460549437609\n",
      "ARIMA (0, 1, 0) x (1, 1, 0, 12)12 : AIC Calculated =1055.0279009702076\n",
      "ARIMA (0, 1, 0) x (1, 1, 1, 12)12 : AIC Calculated =1042.408507947725\n",
      "ARIMA (0, 1, 1) x (0, 0, 0, 12)12 : AIC Calculated =1352.1179469500778\n",
      "ARIMA (0, 1, 1) x (0, 0, 1, 12)12 : AIC Calculated =1165.122599106303\n",
      "ARIMA (0, 1, 1) x (0, 1, 0, 12)12 : AIC Calculated =1155.0103111856354\n",
      "ARIMA (0, 1, 1) x (0, 1, 1, 12)12 : AIC Calculated =982.8927263580538\n",
      "ARIMA (0, 1, 1) x (1, 0, 0, 12)12 : AIC Calculated =1170.9842471402023\n",
      "ARIMA (0, 1, 1) x (1, 0, 1, 12)12 : AIC Calculated =1145.724353582303\n",
      "ARIMA (0, 1, 1) x (1, 1, 0, 12)12 : AIC Calculated =1017.3072339658971\n",
      "ARIMA (0, 1, 1) x (1, 1, 1, 12)12 : AIC Calculated =979.4122885257595\n",
      "ARIMA (1, 0, 0) x (0, 0, 0, 12)12 : AIC Calculated =1418.3980253490079\n",
      "ARIMA (1, 0, 0) x (0, 0, 1, 12)12 : AIC Calculated =1222.4426686207999\n",
      "ARIMA (1, 0, 0) x (0, 1, 0, 12)12 : AIC Calculated =1222.6536119727823\n",
      "ARIMA (1, 0, 0) x (0, 1, 1, 12)12 : AIC Calculated =1085.4417144814772\n",
      "ARIMA (1, 0, 0) x (1, 0, 0, 12)12 : AIC Calculated =1217.158871441812\n",
      "ARIMA (1, 0, 0) x (1, 0, 1, 12)12 : AIC Calculated =1216.7876128174541\n",
      "ARIMA (1, 0, 0) x (1, 1, 0, 12)12 : AIC Calculated =1057.5298221006287\n",
      "ARIMA (1, 0, 0) x (1, 1, 1, 12)12 : AIC Calculated =1051.5875622204085\n",
      "ARIMA (1, 0, 1) x (0, 0, 0, 12)12 : AIC Calculated =1348.4786233754248\n",
      "ARIMA (1, 0, 1) x (0, 0, 1, 12)12 : AIC Calculated =1159.0638705887743\n",
      "ARIMA (1, 0, 1) x (0, 1, 0, 12)12 : AIC Calculated =1172.6250941074527\n",
      "ARIMA (1, 0, 1) x (0, 1, 1, 12)12 : AIC Calculated =1013.3128235297484\n",
      "ARIMA (1, 0, 1) x (1, 0, 0, 12)12 : AIC Calculated =1166.3720076909617\n",
      "ARIMA (1, 0, 1) x (1, 0, 1, 12)12 : AIC Calculated =1155.39765451347\n",
      "ARIMA (1, 0, 1) x (1, 1, 0, 12)12 : AIC Calculated =1019.3215435669129\n",
      "ARIMA (1, 0, 1) x (1, 1, 1, 12)12 : AIC Calculated =998.1075395617496\n",
      "ARIMA (1, 1, 0) x (0, 0, 0, 12)12 : AIC Calculated =1259.1682783188844\n",
      "ARIMA (1, 1, 0) x (0, 0, 1, 12)12 : AIC Calculated =1109.5687393056535\n",
      "ARIMA (1, 1, 0) x (0, 1, 0, 12)12 : AIC Calculated =1166.3293694693102\n",
      "ARIMA (1, 1, 0) x (0, 1, 1, 12)12 : AIC Calculated =965.6137150308464\n",
      "ARIMA (1, 1, 0) x (1, 0, 0, 12)12 : AIC Calculated =1109.0512953291054\n",
      "ARIMA (1, 1, 0) x (1, 0, 1, 12)12 : AIC Calculated =1111.05011439534\n",
      "ARIMA (1, 1, 0) x (1, 1, 0, 12)12 : AIC Calculated =982.9618990371952\n",
      "ARIMA (1, 1, 0) x (1, 1, 1, 12)12 : AIC Calculated =963.197885922495\n",
      "ARIMA (1, 1, 1) x (0, 0, 0, 12)12 : AIC Calculated =1235.4739247917878\n",
      "ARIMA (1, 1, 1) x (0, 0, 1, 12)12 : AIC Calculated =1086.9613563570144\n",
      "ARIMA (1, 1, 1) x (0, 1, 0, 12)12 : AIC Calculated =1150.5601039666892\n",
      "ARIMA (1, 1, 1) x (0, 1, 1, 12)12 : AIC Calculated =947.8502305214427\n",
      "ARIMA (1, 1, 1) x (1, 0, 0, 12)12 : AIC Calculated =1100.1233737252724\n",
      "ARIMA (1, 1, 1) x (1, 0, 1, 12)12 : AIC Calculated =1088.879515144822\n",
      "ARIMA (1, 1, 1) x (1, 1, 0, 12)12 : AIC Calculated =984.959719561326\n",
      "ARIMA (1, 1, 1) x (1, 1, 1, 12)12 : AIC Calculated =947.2177324082603\n"
     ]
    }
   ],
   "source": [
    "# Run a grid with pdq and seasonal pdq parameters calculated above and get the best AIC value\n",
    "ans = []\n",
    "for comb in pdq:\n",
    "    for combs in pdqs:\n",
    "        try:\n",
    "            mod = sm.tsa.statespace.SARIMAX(df_d,\n",
    "                                            order=comb,\n",
    "                                            seasonal_order=combs,\n",
    "                                            enforce_stationarity=False,\n",
    "                                            enforce_invertibility=False)\n",
    "\n",
    "            output = mod.fit()\n",
    "            ans.append([comb, combs, output.aic])\n",
    "            print('ARIMA {} x {}12 : AIC Calculated ={}'.format(comb, combs, output.aic))\n",
    "        except:\n",
    "            continue"
   ]
  },
  {
   "cell_type": "code",
   "execution_count": 164,
   "metadata": {},
   "outputs": [
    {
     "data": {
      "text/plain": [
       "pdq         (1, 1, 1)\n",
       "pdqs    (1, 1, 1, 12)\n",
       "aic           947.218\n",
       "Name: 63, dtype: object"
      ]
     },
     "execution_count": 164,
     "metadata": {},
     "output_type": "execute_result"
    }
   ],
   "source": [
    "# Find the parameters with minimal AIC value\n",
    "ans_df = pd.DataFrame(ans, columns=['pdq', 'pdqs', 'aic'])\n",
    "ans_df.loc[ans_df['aic'].idxmin()]"
   ]
  },
  {
   "cell_type": "code",
   "execution_count": 165,
   "metadata": {},
   "outputs": [
    {
     "name": "stdout",
     "output_type": "stream",
     "text": [
      "==============================================================================\n",
      "                 coef    std err          z      P>|z|      [0.025      0.975]\n",
      "------------------------------------------------------------------------------\n",
      "ar.L1          0.9543      0.032     29.395      0.000       0.891       1.018\n",
      "ma.L1         -0.4861      0.100     -4.875      0.000      -0.682      -0.291\n",
      "ar.S.L12      -0.2072      0.155     -1.339      0.181      -0.511       0.096\n",
      "ma.S.L12      -1.0004      0.244     -4.096      0.000      -1.479      -0.522\n",
      "sigma2      3.618e+04   6.75e-06   5.36e+09      0.000    3.62e+04    3.62e+04\n",
      "==============================================================================\n"
     ]
    }
   ],
   "source": [
    "# Plug the optimal parameter values into a new SARIMAX model\n",
    "ARIMA_MODEL = sm.tsa.statespace.SARIMAX(df_d, \n",
    "                                        order=(1, 1, 1), \n",
    "                                        seasonal_order=(1, 1, 1, 12), \n",
    "                                        enforce_stationarity=False, \n",
    "                                        enforce_invertibility=False)\n",
    "\n",
    "# Fit the model and print results\n",
    "output = ARIMA_MODEL.fit()\n",
    "\n",
    "print(output.summary().tables[1])"
   ]
  },
  {
   "cell_type": "code",
   "execution_count": 166,
   "metadata": {},
   "outputs": [
    {
     "data": {
      "image/png": "[encoded data removed]",
      "text/plain": [
       "<Figure size 1080x1296 with 4 Axes>"
      ]
     },
     "metadata": {},
     "output_type": "display_data"
    }
   ],
   "source": [
    "# Call plot_diagnostics() on the results calculated above \n",
    "output.plot_diagnostics(figsize=(15, 18))\n",
    "plt.show()"
   ]
  },
  {
   "cell_type": "code",
   "execution_count": 169,
   "metadata": {},
   "outputs": [],
   "source": [
    "pred = output.get_prediction(start=pd.to_datetime('2020-05-01'), dynamic=False)\n",
    "pred_conf = pred.conf_int()"
   ]
  },
  {
   "cell_type": "code",
   "execution_count": 170,
   "metadata": {},
   "outputs": [
    {
     "data": {
      "image/png": "[encoded data removed]",
      "text/plain": [
       "<Figure size 1080x432 with 1 Axes>"
      ]
     },
     "metadata": {},
     "output_type": "display_data"
    }
   ],
   "source": [
    "# Plot real vs predicted values along with confidence interval\n",
    "\n",
    "rcParams['figure.figsize'] = 15, 6\n",
    "\n",
    "# Plot observed values\n",
    "ax = df_d.plot(label='observed')\n",
    "\n",
    "# Plot predicted values\n",
    "pred.predicted_mean.plot(ax=ax, label='One-step ahead Forecast', alpha=0.9)\n",
    "\n",
    "# Plot the range for confidence intervals\n",
    "ax.fill_between(pred_conf.index,\n",
    "                pred_conf.iloc[:, 0],\n",
    "                pred_conf.iloc[:, 1], color='g', alpha=0.5)\n",
    "\n",
    "# Set axes labels\n",
    "ax.set_xlabel('Date')\n",
    "ax.set_ylabel('Death Levels')\n",
    "plt.legend()\n",
    "\n",
    "plt.show()"
   ]
  },
  {
   "cell_type": "code",
   "execution_count": 190,
   "metadata": {},
   "outputs": [
    {
     "name": "stdout",
     "output_type": "stream",
     "text": [
      "The Mean Squared Error is 33958.48\n"
     ]
    }
   ],
   "source": [
    "# Get the real and predicted values\n",
    "death_forecasted = pred.predicted_mean\n",
    "death_truth = df_d['2020-05-01':]['Cumulative deaths'].values\n",
    "\n",
    "# Compute the mean square error\n",
    "mse = ((death_forecasted - death_truth) ** 2).mean()\n",
    "print('The Mean Squared Error is {}'.format(round(mse, 2)))"
   ]
  },
  {
   "cell_type": "code",
   "execution_count": 193,
   "metadata": {},
   "outputs": [
    {
     "data": {
      "image/png": "[encoded data removed]",
      "text/plain": [
       "<Figure size 1080x432 with 1 Axes>"
      ]
     },
     "metadata": {},
     "output_type": "display_data"
    }
   ],
   "source": [
    "from pandas.plotting import autocorrelation_plot\n",
    "autocorrelation_plot(df_d)\n",
    "plt.show()"
   ]
  },
  {
   "cell_type": "code",
   "execution_count": null,
   "metadata": {},
   "outputs": [],
   "source": []
  },
  {
   "cell_type": "code",
   "execution_count": null,
   "metadata": {},
   "outputs": [],
   "source": []
  },
  {
   "cell_type": "code",
   "execution_count": null,
   "metadata": {},
   "outputs": [],
   "source": []
  },
  {
   "cell_type": "code",
   "execution_count": null,
   "metadata": {},
   "outputs": [],
   "source": []
  },
  {
   "cell_type": "code",
   "execution_count": null,
   "metadata": {},
   "outputs": [],
   "source": []
  },
  {
   "cell_type": "code",
   "execution_count": null,
   "metadata": {},
   "outputs": [],
   "source": []
  },
  {
   "cell_type": "code",
   "execution_count": null,
   "metadata": {},
   "outputs": [],
   "source": []
  },
  {
   "cell_type": "code",
   "execution_count": null,
   "metadata": {},
   "outputs": [],
   "source": []
  },
  {
   "cell_type": "code",
   "execution_count": null,
   "metadata": {},
   "outputs": [],
   "source": []
  },
  {
   "cell_type": "code",
   "execution_count": null,
   "metadata": {},
   "outputs": [],
   "source": []
  },
  {
   "cell_type": "code",
   "execution_count": null,
   "metadata": {},
   "outputs": [],
   "source": []
  },
  {
   "cell_type": "code",
   "execution_count": null,
   "metadata": {},
   "outputs": [],
   "source": []
  },
  {
   "cell_type": "code",
   "execution_count": null,
   "metadata": {},
   "outputs": [],
   "source": []
  }
 ],
 "metadata": {
  "kernelspec": {
   "display_name": "Python 3",
   "language": "python",
   "name": "python3"
  },
  "language_info": {
   "codemirror_mode": {
    "name": "ipython",
    "version": 3
   },
   "file_extension": ".py",
   "mimetype": "text/x-python",
   "name": "python",
   "nbconvert_exporter": "python",
   "pygments_lexer": "ipython3",
   "version": "3.6.10"
  },
  "toc": {
   "base_numbering": 1,
   "nav_menu": {},
   "number_sections": true,
   "sideBar": true,
   "skip_h1_title": false,
   "title_cell": "Table of Contents",
   "title_sidebar": "Contents",
   "toc_cell": false,
   "toc_position": {
    "height": "calc(100% - 180px)",
    "left": "10px",
    "top": "150px",
    "width": "291.797px"
   },
   "toc_section_display": true,
   "toc_window_display": true
  },
  "varInspector": {
   "cols": {
    "lenName": 16,
    "lenType": 16,
    "lenVar": 40
   },
   "kernels_config": {
    "python": {
     "delete_cmd_postfix": "",
     "delete_cmd_prefix": "del ",
     "library": "var_list.py",
     "varRefreshCmd": "print(var_dic_list())"
    },
    "r": {
     "delete_cmd_postfix": ") ",
     "delete_cmd_prefix": "rm(",
     "library": "var_list.r",
     "varRefreshCmd": "cat(var_dic_list()) "
    }
   },
   "types_to_exclude": [
    "module",
    "function",
    "builtin_function_or_method",
    "instance",
    "_Feature"
   ],
   "window_display": false
  }
 },
 "nbformat": 4,
 "nbformat_minor": 4
}
